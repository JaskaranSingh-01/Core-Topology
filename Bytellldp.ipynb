{
  "cells": [
    {
      "cell_type": "code",
      "execution_count": null,
      "metadata": {
        "colab": {
          "base_uri": "https://localhost:8080/"
        },
        "id": "87LxDpiS4o02",
        "metadata": {},
        "outputId": "bb9999c3-1ff8-419f-c05b-a0487bfc3047"
      },
      "outputs": [],
      "source": [
        "pip install pyvis"
      ]
    },
    {
      "cell_type": "code",
      "execution_count": null,
      "metadata": {
        "metadata": {}
      },
      "outputs": [],
      "source": [
        "pip install ipysigma"
      ]
    },
    {
      "cell_type": "code",
      "execution_count": null,
      "metadata": {
        "metadata": {}
      },
      "outputs": [],
      "source": [
        "pip install pelote\n"
      ]
    },
    {
      "cell_type": "code",
      "execution_count": null,
      "metadata": {
        "id": "QKZrWDSG6dn0",
        "metadata": {}
      },
      "outputs": [],
      "source": [
        "import pandas as pd\n",
        "import networkx as nx\n",
        "import matplotlib.pyplot as plt\n",
        "import json\n",
        "from pyvis.network import Network\n",
        "from ipysigma import Sigma\n",
        "import openpyxl\n"
      ]
    },
    {
      "cell_type": "code",
      "execution_count": null,
      "metadata": {
        "id": "rt_hjUxC6a2K",
        "metadata": {}
      },
      "outputs": [],
      "source": [
        "file_name = './Data/Bytellldp.xlsx'\n",
        "df = pd.read_excel(file_name,engine='openpyxl')"
      ]
    },
    {
      "cell_type": "code",
      "execution_count": null,
      "metadata": {
        "colab": {
          "base_uri": "https://localhost:8080/",
          "height": 1000
        },
        "id": "8X7W_yUA6yEP",
        "metadata": {},
        "outputId": "16a6597c-ee56-4013-a842-7c8bf916687d"
      },
      "outputs": [],
      "source": [
        "df\n"
      ]
    },
    {
      "cell_type": "code",
      "execution_count": null,
      "metadata": {
        "colab": {
          "base_uri": "https://localhost:8080/"
        },
        "id": "tKEAAUJR6zSK",
        "metadata": {},
        "outputId": "468697a4-d054-4ae2-c51f-3c929882a2a1"
      },
      "outputs": [],
      "source": [
        "df.columns"
      ]
    },
    {
      "cell_type": "code",
      "execution_count": null,
      "metadata": {
        "id": "FhJCb9rx6zV-",
        "metadata": {}
      },
      "outputs": [],
      "source": [
        "# df_melted=pd.melt(df,id_vars=['NODE', 'Power State', 'Status', 'Instance Name', 'Operator',\n",
        "#        'Data center', 'VMS', 'VCPUS', 'RAM', 'DISK'],value_vars=['VNF','COMPUTE'])"
      ]
    },
    {
      "cell_type": "code",
      "execution_count": null,
      "metadata": {
        "colab": {
          "base_uri": "https://localhost:8080/",
          "height": 1000
        },
        "id": "FCDXHjFs6zbz",
        "metadata": {},
        "outputId": "5605dddd-d13a-4552-e8e3-8eaa5a92fd23"
      },
      "outputs": [],
      "source": [
        "\n",
        "    "
      ]
    },
    {
      "cell_type": "code",
      "execution_count": null,
      "metadata": {},
      "outputs": [],
      "source": [
        "df.columns\n"
      ]
    },
    {
      "cell_type": "code",
      "execution_count": null,
      "metadata": {
        "id": "zcTu14APKOFp",
        "metadata": {}
      },
      "outputs": [],
      "source": [
        "g=nx.MultiDiGraph()\n",
        "from pelote import edges_table_to_graph\n",
        "from pelote import tables_to_graph\n",
        "from pelote import table_to_bipartite_graph\n",
        "\n",
        "# g = edges_table_to_graph(\n",
        "#   df,\n",
        "#   edge_source_col=\"COMPUTE\",\n",
        "#   edge_target_col=\"VMS\",\n",
        "#   # edge_label=\"NODE\",\n",
        "#   edge_data=['NODE'],\n",
        "#   directed=True\n",
        "# )\n",
        "\n",
        "table_nodes = []\n",
        "\n",
        "table_edges = []\n",
        "\n",
        "\n",
        "# for idx, row in df.iterrows():\n",
        "#   node_data = {\n",
        "#     'Node':row['Src'],\n",
        "#     'ip':row['Srcip']\n",
        "#   }\n",
        "#   table_nodes.append(node_data)\n",
        "  \n",
        "#   node_data = {\n",
        "#     'Node':row['Tgt'],\n",
        "#     'ip':row['Tgtip']\n",
        "#   }\n",
        "#   if row['Tgtip']!='Missing':\n",
        "#     table_nodes.append(node_data)\n",
        "  \n",
        "#   edge_data =  {\n",
        "#     \"source\":row['Src'],\n",
        "#     \"target\": row['Tgt'],\n",
        "#     'Source_ip':row['Srcip'], \n",
        "#     'Target_ip':row['Tgtip'], \n",
        "#   }\n",
        "#   if row['Tgtip']!='Missing':\n",
        "#     table_edges.append(edge_data)\n",
        "\n",
        "  \n",
        "# g = tables_to_graph(\n",
        "#     table_nodes, table_edges, node_col=\"Node\", node_data=['Node', 'ip'], edge_data=['source', 'target', 'Source_ip','Target_ip'], directed=True,\n",
        "# )\n",
        "\n",
        "lookup={\n",
        "    'Site Geo A' : 'source',\n",
        "    'Site Geo B' : 'target'\n",
        "}\n",
        "\n",
        "col_lookup ={\n",
        "    'Available in lldp':\"green\",\n",
        "    'Missing in database':\"blue\",\n",
        "    'Missing in lldp':\"red\"\n",
        "    \n",
        "}\n",
        "\n",
        "edge_labels = list(df.columns)\n",
        "\n",
        "for idx,row in df.iterrows():\n",
        "    node_data={\n",
        "        \"Node\":row['Site Geo A']\n",
        "    }\n",
        "    table_nodes.append(node_data)\n",
        "\n",
        "    node_data={\n",
        "        \"Node\":row['Site Geo B']\n",
        "    }\n",
        "    table_nodes.append(node_data)\n",
        "\n",
        "    edge_data={}\n",
        "    for i in edge_labels:\n",
        "        if i in lookup:\n",
        "            edge_data[lookup[i]]=row[i]\n",
        "        else:\n",
        "            edge_data[i]=row[i]\n",
        "    edge_data['color']=col_lookup[row['Remarks']]\n",
        "    # edge_data['color'] = row['Remarks']\n",
        "    # edge_data = {\n",
        "    #     \"source\":row['Equipement A'],\n",
        "    #     \"target\":row['Equipement B'],\n",
        "    #     # 'Nom Lien IP':row['Nom Lien IP'],\n",
        "    #     # 'Etat':row['Etat'],\n",
        "    #     # 'Adresse IP A':row['Adresse IP A'],\n",
        "    #     # 'Constructeur A':row['Constructeur A'],\n",
        "    #     # 'Classe Equipement A':row['Classe Equipement A'],\n",
        "    #     # 'Classe Equipement B':['Classe Equipement B'],\n",
        "    #     # 'Constructeur B':row['Constructeur B'],\n",
        "    #     # 'Adresse IP B':row['Adresse IP B']\n",
        "    # }\n",
        "    table_edges.append(edge_data)\n",
        "    \n",
        "\n",
        "g = tables_to_graph(\n",
        "    table_nodes, table_edges, node_col=\"Node\", node_data=[\"Node\"], edge_data=['source','target','Nom Lien IP', 'Equipement A', 'Classe Equipement A',\n",
        "       'Adresse IP A', 'Nom Interface A', 'Equipement B',\n",
        "       'Classe Equipement B', 'Adresse IP B', 'Remarks','color'], directed=True,\n",
        ")\n",
        "\n",
        "# g = edges_table_to_graph(\n",
        "#   df,\n",
        "#   edge_source_col=\"COMPUTE\",\n",
        "#   edge_target_col=\"VMS\",\n",
        "#   # edge_label=\"NODE\",\n",
        "#   edge_data=['NODE'],\n",
        "#   directed=True\n",
        "# )\n",
        "\n",
        "\n",
        "\n",
        "\n"
      ]
    },
    {
      "cell_type": "code",
      "execution_count": null,
      "metadata": {},
      "outputs": [],
      "source": []
    },
    {
      "cell_type": "code",
      "execution_count": null,
      "metadata": {
        "id": "qS4HMDhVKOIs",
        "metadata": {}
      },
      "outputs": [],
      "source": [
        "# for idx, row in df.iterrows():\n",
        "#     if not pd.isnull(row['primary-source-address']):  # Check if 'primary-source-address' is not NaN\n",
        "#         G.add_node(row['primary-source-address'])\n",
        "#         G.add_node(row['primary-destination-address'])\n",
        "#         attributes = {col: row[col] for col in attribute_columns}\n",
        "#         attribute_html = format_attributes(attributes)\n",
        "#         G.add_edge(row['primary-source-address'], row['primary-destination-address'], title=r\"{}\".format(attribute_html), color='lightblue')\n",
        "#     else:\n",
        "#         G.add_node(row['primary-destination-address'])\n",
        "#         attributes = {col: row[col] for col in attribute_columns}\n",
        "#         attribute_html = format_attributes(attributes)\n",
        "\n",
        "\n",
        "col_lookup ={\n",
        "    'Available in lldp':\"green\",\n",
        "    'Missing in database':\"blue\",\n",
        "    'Missing in lldp':\"red\"\n",
        "    \n",
        "}\n",
        "\n",
        "G=nx.MultiDiGraph()\n",
        "def format_attributes(data_dict):\n",
        "    formatted_string = \"\"\n",
        "    for key, value in data_dict.items():\n",
        "        if key=='value':\n",
        "            formatted_string += f\"{'source'}: {value}\\n\"\n",
        "        else:\n",
        "            formatted_string += f\"{key}: {value}\\n\"\n",
        "    return formatted_string\n",
        "\n",
        "attribute_columns = ['Site Geo A','Site Geo B','Nom Lien IP', 'Equipement A', 'Classe Equipement A','Adresse IP A', 'Nom Interface A', 'Equipement B','Classe Equipement B', 'Adresse IP B', 'Remarks']\n",
        "# for idx, row in df.iterrows():\n",
        "#     dest = row['TGt']\n",
        "#     src=row['Src']\n",
        "#     attributes = {col: row[col] for col in attribute_columns}\n",
        "#     attribute_html = format_attributes(attributes)\n",
        "#     G.add_node(dest, color='Green')\n",
        "#     if not pd.isnull(src):\n",
        "#         G.add_node(src,shape = 'triangle',color='Orange')\n",
        "#         G.add_edge(src,dest,title=r\"{}\".format(attribute_html))\n",
        "    \n",
        "\n",
        "\n",
        "for idx, row in df.iterrows():\n",
        "\n",
        "    src_name = row['Equipement A']\n",
        "    dest_name = row['Equipement B']\n",
        "    G.add_node(src_name, type =row['Classe Equipement A'] )\n",
        "    G.add_node(dest_name,type = row['Classe Equipement B'])\n",
        "    attributes = {col: row[col] for col in attribute_columns}\n",
        "    attribute_html = format_attributes(attributes)\n",
        "\n",
        "    G.add_edge(src_name,dest_name, title=r\"{}\".format(attribute_html),Site_Geo_A = ['Site Geo A'],Site_Geo_B = ['Site Geo B'],Nom_Lien_IP=row['Nom Lien IP'],Equipment_A = row['Equipement A'],Classe_Equipement_A=row['Classe Equipement A'],Adresse_IP_A=row['Adresse IP A'],Nom_Interface_A=row['Nom Interface A'],Equipement_B=row['Equipement B'],Classe_Equipement_B=row['Classe Equipement B'],Adresse_IP_B=row['Adresse IP B'],Remarks = row['Remarks'],color=col_lookup[row['Remarks']])\n",
        "import os\n",
        "G = nx.relabel_nodes(G, {n: str(n) for n in G.nodes()})\n",
        "nt = Network(height=\"1500px\", width=\"100%\", directed=True, notebook=True, filter_menu=True, cdn_resources='remote')\n",
        "nt.from_nx(G)\n",
        "nt.barnes_hut(gravity=-18950,central_gravity=2.0,spring_length=200,spring_strength=0.5,damping=0.75,overlap=0.5)\n",
        "nt.set_edge_smooth('dynamic')\n",
        "# Show additional buttons for physics and interaction (optional)\n",
        "nt.show_buttons(filter_=['physics', 'interaction'])\n",
        "# Generate and save the HTML file\n",
        "html_file_path = 'Bytellldp.html'\n",
        "# if os.path.exists(html_file_path):\n",
        "#     # Delete the file if it exists\n",
        "#     os.remove(html_file_path)\n",
        "# Write the HTML file\n",
        "# nx.write_gml(G,html_file_path)\n",
        "nt.write_html(html_file_path)"
      ]
    },
    {
      "cell_type": "code",
      "execution_count": null,
      "metadata": {
        "colab": {
          "base_uri": "https://localhost:8080/",
          "height": 176
        },
        "id": "2DZYYFjiVMxl",
        "metadata": {},
        "outputId": "167a32f4-5b24-42a6-ed2d-188d9532016f"
      },
      "outputs": [],
      "source": [
        "# sigma = Sigma(g,clickable_edges=True)\n",
        "\n",
        "# Save the Sigma object to an HTML file\n",
        "print(g._node)\n",
        "Sigma.write_html(g,\"./templates/files/Bytellldp.html\",fullscreen=True,clickable_edges=True,node_size=g.degree,node_color='red',raw_edge_color='color')\n",
        "\n"
      ]
    }
  ],
  "metadata": {
    "accelerator": "GPU",
    "colab": {
      "gpuType": "T4",
      "name": "Welcome to Colaboratory",
      "provenance": []
    },
    "kernelspec": {
      "display_name": "Python 3",
      "name": "python3"
    },
    "language_info": {
      "codemirror_mode": {
        "name": "ipython",
        "version": 3
      },
      "file_extension": ".py",
      "mimetype": "text/x-python",
      "name": "python",
      "nbconvert_exporter": "python",
      "pygments_lexer": "ipython3",
      "version": "3.6.13"
    }
  },
  "nbformat": 4,
  "nbformat_minor": 0
}
