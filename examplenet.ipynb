{
  "cells": [
    {
      "cell_type": "code",
      "execution_count": 1,
      "metadata": {
        "colab": {
          "base_uri": "https://localhost:8080/"
        },
        "id": "87LxDpiS4o02",
        "metadata": {},
        "outputId": "bb9999c3-1ff8-419f-c05b-a0487bfc3047"
      },
      "outputs": [
        {
          "name": "stdout",
          "output_type": "stream",
          "text": [
            "Requirement already satisfied: pyvis in /home/joy/miniconda3/envs/nt/lib/python3.6/site-packages (0.3.2)\n",
            "Requirement already satisfied: jsonpickle>=1.4.1 in /home/joy/miniconda3/envs/nt/lib/python3.6/site-packages (from pyvis) (2.2.0)\n",
            "Requirement already satisfied: jinja2>=2.9.6 in /home/joy/miniconda3/envs/nt/lib/python3.6/site-packages (from pyvis) (3.0.3)\n",
            "Requirement already satisfied: ipython>=5.3.0 in /home/joy/miniconda3/envs/nt/lib/python3.6/site-packages (from pyvis) (7.16.1)\n",
            "Requirement already satisfied: networkx>=1.11 in /home/joy/miniconda3/envs/nt/lib/python3.6/site-packages (from pyvis) (2.5.1)\n",
            "Requirement already satisfied: pickleshare in /home/joy/miniconda3/envs/nt/lib/python3.6/site-packages (from ipython>=5.3.0->pyvis) (0.7.5)\n",
            "Requirement already satisfied: traitlets>=4.2 in /home/joy/miniconda3/envs/nt/lib/python3.6/site-packages (from ipython>=5.3.0->pyvis) (4.3.3)\n",
            "Requirement already satisfied: pexpect in /home/joy/miniconda3/envs/nt/lib/python3.6/site-packages (from ipython>=5.3.0->pyvis) (4.8.0)\n",
            "Requirement already satisfied: pygments in /home/joy/miniconda3/envs/nt/lib/python3.6/site-packages (from ipython>=5.3.0->pyvis) (2.14.0)\n",
            "Requirement already satisfied: prompt-toolkit!=3.0.0,!=3.0.1,<3.1.0,>=2.0.0 in /home/joy/miniconda3/envs/nt/lib/python3.6/site-packages (from ipython>=5.3.0->pyvis) (3.0.36)\n",
            "Requirement already satisfied: decorator in /home/joy/miniconda3/envs/nt/lib/python3.6/site-packages (from ipython>=5.3.0->pyvis) (4.4.2)\n",
            "Requirement already satisfied: jedi>=0.10 in /home/joy/miniconda3/envs/nt/lib/python3.6/site-packages (from ipython>=5.3.0->pyvis) (0.17.2)\n",
            "Requirement already satisfied: setuptools>=18.5 in /home/joy/miniconda3/envs/nt/lib/python3.6/site-packages (from ipython>=5.3.0->pyvis) (58.0.4)\n",
            "Requirement already satisfied: backcall in /home/joy/miniconda3/envs/nt/lib/python3.6/site-packages (from ipython>=5.3.0->pyvis) (0.2.0)\n",
            "Requirement already satisfied: parso<0.8.0,>=0.7.0 in /home/joy/miniconda3/envs/nt/lib/python3.6/site-packages (from jedi>=0.10->ipython>=5.3.0->pyvis) (0.7.1)\n",
            "Requirement already satisfied: MarkupSafe>=2.0 in /home/joy/miniconda3/envs/nt/lib/python3.6/site-packages (from jinja2>=2.9.6->pyvis) (2.0.1)\n",
            "Requirement already satisfied: importlib-metadata in /home/joy/miniconda3/envs/nt/lib/python3.6/site-packages (from jsonpickle>=1.4.1->pyvis) (4.8.3)\n",
            "Requirement already satisfied: wcwidth in /home/joy/miniconda3/envs/nt/lib/python3.6/site-packages (from prompt-toolkit!=3.0.0,!=3.0.1,<3.1.0,>=2.0.0->ipython>=5.3.0->pyvis) (0.2.10)\n",
            "Requirement already satisfied: ipython-genutils in /home/joy/miniconda3/envs/nt/lib/python3.6/site-packages (from traitlets>=4.2->ipython>=5.3.0->pyvis) (0.2.0)\n",
            "Requirement already satisfied: six in /home/joy/miniconda3/envs/nt/lib/python3.6/site-packages (from traitlets>=4.2->ipython>=5.3.0->pyvis) (1.16.0)\n",
            "Requirement already satisfied: zipp>=0.5 in /home/joy/miniconda3/envs/nt/lib/python3.6/site-packages (from importlib-metadata->jsonpickle>=1.4.1->pyvis) (3.6.0)\n",
            "Requirement already satisfied: typing-extensions>=3.6.4 in /home/joy/miniconda3/envs/nt/lib/python3.6/site-packages (from importlib-metadata->jsonpickle>=1.4.1->pyvis) (4.1.1)\n",
            "Requirement already satisfied: ptyprocess>=0.5 in /home/joy/miniconda3/envs/nt/lib/python3.6/site-packages (from pexpect->ipython>=5.3.0->pyvis) (0.7.0)\n",
            "Note: you may need to restart the kernel to use updated packages.\n"
          ]
        }
      ],
      "source": [
        "pip install pyvis"
      ]
    },
    {
      "cell_type": "code",
      "execution_count": 2,
      "metadata": {
        "metadata": {}
      },
      "outputs": [
        {
          "name": "stdout",
          "output_type": "stream",
          "text": [
            "Requirement already satisfied: ipysigma in /home/joy/miniconda3/envs/nt/lib/python3.6/site-packages (0.24.2)\n",
            "Requirement already satisfied: ipywidgets>=7.0.0 in /home/joy/miniconda3/envs/nt/lib/python3.6/site-packages (from ipysigma) (7.7.0)\n",
            "Requirement already satisfied: traitlets>=4.3.1 in /home/joy/miniconda3/envs/nt/lib/python3.6/site-packages (from ipywidgets>=7.0.0->ipysigma) (4.3.3)\n",
            "Requirement already satisfied: ipykernel>=4.5.1 in /home/joy/miniconda3/envs/nt/lib/python3.6/site-packages (from ipywidgets>=7.0.0->ipysigma) (5.5.5)\n",
            "Requirement already satisfied: ipython>=4.0.0 in /home/joy/miniconda3/envs/nt/lib/python3.6/site-packages (from ipywidgets>=7.0.0->ipysigma) (7.16.1)\n",
            "Requirement already satisfied: nbformat>=4.2.0 in /home/joy/miniconda3/envs/nt/lib/python3.6/site-packages (from ipywidgets>=7.0.0->ipysigma) (5.1.3)\n",
            "Requirement already satisfied: jupyterlab-widgets>=1.0.0 in /home/joy/miniconda3/envs/nt/lib/python3.6/site-packages (from ipywidgets>=7.0.0->ipysigma) (1.1.1)\n",
            "Requirement already satisfied: ipython-genutils~=0.2.0 in /home/joy/miniconda3/envs/nt/lib/python3.6/site-packages (from ipywidgets>=7.0.0->ipysigma) (0.2.0)\n",
            "Requirement already satisfied: widgetsnbextension~=3.6.0 in /home/joy/miniconda3/envs/nt/lib/python3.6/site-packages (from ipywidgets>=7.0.0->ipysigma) (3.6.6)\n",
            "Requirement already satisfied: jupyter-client in /home/joy/miniconda3/envs/nt/lib/python3.6/site-packages (from ipykernel>=4.5.1->ipywidgets>=7.0.0->ipysigma) (7.1.2)\n",
            "Requirement already satisfied: tornado>=4.2 in /home/joy/miniconda3/envs/nt/lib/python3.6/site-packages (from ipykernel>=4.5.1->ipywidgets>=7.0.0->ipysigma) (6.1)\n",
            "Requirement already satisfied: pickleshare in /home/joy/miniconda3/envs/nt/lib/python3.6/site-packages (from ipython>=4.0.0->ipywidgets>=7.0.0->ipysigma) (0.7.5)\n",
            "Requirement already satisfied: backcall in /home/joy/miniconda3/envs/nt/lib/python3.6/site-packages (from ipython>=4.0.0->ipywidgets>=7.0.0->ipysigma) (0.2.0)\n",
            "Requirement already satisfied: setuptools>=18.5 in /home/joy/miniconda3/envs/nt/lib/python3.6/site-packages (from ipython>=4.0.0->ipywidgets>=7.0.0->ipysigma) (58.0.4)\n",
            "Requirement already satisfied: prompt-toolkit!=3.0.0,!=3.0.1,<3.1.0,>=2.0.0 in /home/joy/miniconda3/envs/nt/lib/python3.6/site-packages (from ipython>=4.0.0->ipywidgets>=7.0.0->ipysigma) (3.0.36)\n",
            "Requirement already satisfied: pygments in /home/joy/miniconda3/envs/nt/lib/python3.6/site-packages (from ipython>=4.0.0->ipywidgets>=7.0.0->ipysigma) (2.14.0)\n",
            "Requirement already satisfied: pexpect in /home/joy/miniconda3/envs/nt/lib/python3.6/site-packages (from ipython>=4.0.0->ipywidgets>=7.0.0->ipysigma) (4.8.0)\n",
            "Requirement already satisfied: jedi>=0.10 in /home/joy/miniconda3/envs/nt/lib/python3.6/site-packages (from ipython>=4.0.0->ipywidgets>=7.0.0->ipysigma) (0.17.2)\n",
            "Requirement already satisfied: decorator in /home/joy/miniconda3/envs/nt/lib/python3.6/site-packages (from ipython>=4.0.0->ipywidgets>=7.0.0->ipysigma) (4.4.2)\n",
            "Requirement already satisfied: parso<0.8.0,>=0.7.0 in /home/joy/miniconda3/envs/nt/lib/python3.6/site-packages (from jedi>=0.10->ipython>=4.0.0->ipywidgets>=7.0.0->ipysigma) (0.7.1)\n",
            "Requirement already satisfied: jupyter-core in /home/joy/miniconda3/envs/nt/lib/python3.6/site-packages (from nbformat>=4.2.0->ipywidgets>=7.0.0->ipysigma) (4.8.1)\n",
            "Requirement already satisfied: jsonschema!=2.5.0,>=2.4 in /home/joy/miniconda3/envs/nt/lib/python3.6/site-packages (from nbformat>=4.2.0->ipywidgets>=7.0.0->ipysigma) (3.2.0)\n",
            "Requirement already satisfied: six>=1.11.0 in /home/joy/miniconda3/envs/nt/lib/python3.6/site-packages (from jsonschema!=2.5.0,>=2.4->nbformat>=4.2.0->ipywidgets>=7.0.0->ipysigma) (1.16.0)\n",
            "Requirement already satisfied: importlib-metadata in /home/joy/miniconda3/envs/nt/lib/python3.6/site-packages (from jsonschema!=2.5.0,>=2.4->nbformat>=4.2.0->ipywidgets>=7.0.0->ipysigma) (4.8.3)\n",
            "Requirement already satisfied: pyrsistent>=0.14.0 in /home/joy/miniconda3/envs/nt/lib/python3.6/site-packages (from jsonschema!=2.5.0,>=2.4->nbformat>=4.2.0->ipywidgets>=7.0.0->ipysigma) (0.18.0)\n",
            "Requirement already satisfied: attrs>=17.4.0 in /home/joy/miniconda3/envs/nt/lib/python3.6/site-packages (from jsonschema!=2.5.0,>=2.4->nbformat>=4.2.0->ipywidgets>=7.0.0->ipysigma) (22.2.0)\n",
            "Requirement already satisfied: wcwidth in /home/joy/miniconda3/envs/nt/lib/python3.6/site-packages (from prompt-toolkit!=3.0.0,!=3.0.1,<3.1.0,>=2.0.0->ipython>=4.0.0->ipywidgets>=7.0.0->ipysigma) (0.2.10)\n",
            "Requirement already satisfied: notebook>=4.4.1 in /home/joy/miniconda3/envs/nt/lib/python3.6/site-packages (from widgetsnbextension~=3.6.0->ipywidgets>=7.0.0->ipysigma) (6.4.10)\n",
            "Requirement already satisfied: pyzmq>=17 in /home/joy/miniconda3/envs/nt/lib/python3.6/site-packages (from notebook>=4.4.1->widgetsnbextension~=3.6.0->ipywidgets>=7.0.0->ipysigma) (22.3.0)\n",
            "Requirement already satisfied: jinja2 in /home/joy/miniconda3/envs/nt/lib/python3.6/site-packages (from notebook>=4.4.1->widgetsnbextension~=3.6.0->ipywidgets>=7.0.0->ipysigma) (3.0.3)\n",
            "Requirement already satisfied: nbconvert>=5 in /home/joy/miniconda3/envs/nt/lib/python3.6/site-packages (from notebook>=4.4.1->widgetsnbextension~=3.6.0->ipywidgets>=7.0.0->ipysigma) (6.0.7)\n",
            "Requirement already satisfied: Send2Trash>=1.8.0 in /home/joy/miniconda3/envs/nt/lib/python3.6/site-packages (from notebook>=4.4.1->widgetsnbextension~=3.6.0->ipywidgets>=7.0.0->ipysigma) (1.8.3)\n",
            "Requirement already satisfied: prometheus-client in /home/joy/miniconda3/envs/nt/lib/python3.6/site-packages (from notebook>=4.4.1->widgetsnbextension~=3.6.0->ipywidgets>=7.0.0->ipysigma) (0.17.1)\n",
            "Requirement already satisfied: terminado>=0.8.3 in /home/joy/miniconda3/envs/nt/lib/python3.6/site-packages (from notebook>=4.4.1->widgetsnbextension~=3.6.0->ipywidgets>=7.0.0->ipysigma) (0.12.1)\n",
            "Requirement already satisfied: argon2-cffi in /home/joy/miniconda3/envs/nt/lib/python3.6/site-packages (from notebook>=4.4.1->widgetsnbextension~=3.6.0->ipywidgets>=7.0.0->ipysigma) (21.3.0)\n",
            "Requirement already satisfied: nest-asyncio>=1.5 in /home/joy/miniconda3/envs/nt/lib/python3.6/site-packages (from notebook>=4.4.1->widgetsnbextension~=3.6.0->ipywidgets>=7.0.0->ipysigma) (1.6.0)\n",
            "Requirement already satisfied: entrypoints in /home/joy/miniconda3/envs/nt/lib/python3.6/site-packages (from jupyter-client->ipykernel>=4.5.1->ipywidgets>=7.0.0->ipysigma) (0.4)\n",
            "Requirement already satisfied: python-dateutil>=2.1 in /home/joy/miniconda3/envs/nt/lib/python3.6/site-packages (from jupyter-client->ipykernel>=4.5.1->ipywidgets>=7.0.0->ipysigma) (2.8.2)\n",
            "Requirement already satisfied: mistune<2,>=0.8.1 in /home/joy/miniconda3/envs/nt/lib/python3.6/site-packages (from nbconvert>=5->notebook>=4.4.1->widgetsnbextension~=3.6.0->ipywidgets>=7.0.0->ipysigma) (0.8.4)\n",
            "Requirement already satisfied: jupyterlab-pygments in /home/joy/miniconda3/envs/nt/lib/python3.6/site-packages (from nbconvert>=5->notebook>=4.4.1->widgetsnbextension~=3.6.0->ipywidgets>=7.0.0->ipysigma) (0.1.2)\n",
            "Requirement already satisfied: bleach in /home/joy/miniconda3/envs/nt/lib/python3.6/site-packages (from nbconvert>=5->notebook>=4.4.1->widgetsnbextension~=3.6.0->ipywidgets>=7.0.0->ipysigma) (4.1.0)\n",
            "Requirement already satisfied: defusedxml in /home/joy/miniconda3/envs/nt/lib/python3.6/site-packages (from nbconvert>=5->notebook>=4.4.1->widgetsnbextension~=3.6.0->ipywidgets>=7.0.0->ipysigma) (0.7.1)\n",
            "Requirement already satisfied: nbclient<0.6.0,>=0.5.0 in /home/joy/miniconda3/envs/nt/lib/python3.6/site-packages (from nbconvert>=5->notebook>=4.4.1->widgetsnbextension~=3.6.0->ipywidgets>=7.0.0->ipysigma) (0.5.9)\n",
            "Requirement already satisfied: testpath in /home/joy/miniconda3/envs/nt/lib/python3.6/site-packages (from nbconvert>=5->notebook>=4.4.1->widgetsnbextension~=3.6.0->ipywidgets>=7.0.0->ipysigma) (0.6.0)\n",
            "Requirement already satisfied: pandocfilters>=1.4.1 in /home/joy/miniconda3/envs/nt/lib/python3.6/site-packages (from nbconvert>=5->notebook>=4.4.1->widgetsnbextension~=3.6.0->ipywidgets>=7.0.0->ipysigma) (1.5.1)\n",
            "Requirement already satisfied: MarkupSafe>=2.0 in /home/joy/miniconda3/envs/nt/lib/python3.6/site-packages (from jinja2->notebook>=4.4.1->widgetsnbextension~=3.6.0->ipywidgets>=7.0.0->ipysigma) (2.0.1)\n",
            "Requirement already satisfied: async-generator in /home/joy/miniconda3/envs/nt/lib/python3.6/site-packages (from nbclient<0.6.0,>=0.5.0->nbconvert>=5->notebook>=4.4.1->widgetsnbextension~=3.6.0->ipywidgets>=7.0.0->ipysigma) (1.10)\n",
            "Requirement already satisfied: ptyprocess in /home/joy/miniconda3/envs/nt/lib/python3.6/site-packages (from terminado>=0.8.3->notebook>=4.4.1->widgetsnbextension~=3.6.0->ipywidgets>=7.0.0->ipysigma) (0.7.0)\n",
            "Requirement already satisfied: typing-extensions in /home/joy/miniconda3/envs/nt/lib/python3.6/site-packages (from argon2-cffi->notebook>=4.4.1->widgetsnbextension~=3.6.0->ipywidgets>=7.0.0->ipysigma) (4.1.1)\n",
            "Requirement already satisfied: dataclasses in /home/joy/miniconda3/envs/nt/lib/python3.6/site-packages (from argon2-cffi->notebook>=4.4.1->widgetsnbextension~=3.6.0->ipywidgets>=7.0.0->ipysigma) (0.8)\n",
            "Requirement already satisfied: argon2-cffi-bindings in /home/joy/miniconda3/envs/nt/lib/python3.6/site-packages (from argon2-cffi->notebook>=4.4.1->widgetsnbextension~=3.6.0->ipywidgets>=7.0.0->ipysigma) (21.2.0)\n",
            "Requirement already satisfied: cffi>=1.0.1 in /home/joy/miniconda3/envs/nt/lib/python3.6/site-packages (from argon2-cffi-bindings->argon2-cffi->notebook>=4.4.1->widgetsnbextension~=3.6.0->ipywidgets>=7.0.0->ipysigma) (1.15.1)\n",
            "Requirement already satisfied: pycparser in /home/joy/miniconda3/envs/nt/lib/python3.6/site-packages (from cffi>=1.0.1->argon2-cffi-bindings->argon2-cffi->notebook>=4.4.1->widgetsnbextension~=3.6.0->ipywidgets>=7.0.0->ipysigma) (2.21)\n",
            "Requirement already satisfied: webencodings in /home/joy/miniconda3/envs/nt/lib/python3.6/site-packages (from bleach->nbconvert>=5->notebook>=4.4.1->widgetsnbextension~=3.6.0->ipywidgets>=7.0.0->ipysigma) (0.5.1)\n",
            "Requirement already satisfied: packaging in /home/joy/miniconda3/envs/nt/lib/python3.6/site-packages (from bleach->nbconvert>=5->notebook>=4.4.1->widgetsnbextension~=3.6.0->ipywidgets>=7.0.0->ipysigma) (21.3)\n",
            "Requirement already satisfied: zipp>=0.5 in /home/joy/miniconda3/envs/nt/lib/python3.6/site-packages (from importlib-metadata->jsonschema!=2.5.0,>=2.4->nbformat>=4.2.0->ipywidgets>=7.0.0->ipysigma) (3.6.0)\n",
            "Requirement already satisfied: pyparsing!=3.0.5,>=2.0.2 in /home/joy/miniconda3/envs/nt/lib/python3.6/site-packages (from packaging->bleach->nbconvert>=5->notebook>=4.4.1->widgetsnbextension~=3.6.0->ipywidgets>=7.0.0->ipysigma) (3.1.2)\n",
            "Note: you may need to restart the kernel to use updated packages.\n"
          ]
        }
      ],
      "source": [
        "pip install ipysigma"
      ]
    },
    {
      "cell_type": "code",
      "execution_count": 3,
      "metadata": {
        "metadata": {}
      },
      "outputs": [
        {
          "name": "stdout",
          "output_type": "stream",
          "text": [
            "Requirement already satisfied: pelote in /home/joy/miniconda3/envs/nt/lib/python3.6/site-packages (0.8.2)\n",
            "Requirement already satisfied: networkx<3,>=2 in /home/joy/miniconda3/envs/nt/lib/python3.6/site-packages (from pelote) (2.5.1)\n",
            "Requirement already satisfied: pyllist in /home/joy/miniconda3/envs/nt/lib/python3.6/site-packages (from pelote) (0.3)\n",
            "Requirement already satisfied: ebbe<2,>=1.9.0 in /home/joy/miniconda3/envs/nt/lib/python3.6/site-packages (from pelote) (1.13.2)\n",
            "Requirement already satisfied: typing-extensions in /home/joy/miniconda3/envs/nt/lib/python3.6/site-packages (from ebbe<2,>=1.9.0->pelote) (4.1.1)\n",
            "Requirement already satisfied: decorator<5,>=4.3 in /home/joy/miniconda3/envs/nt/lib/python3.6/site-packages (from networkx<3,>=2->pelote) (4.4.2)\n",
            "Note: you may need to restart the kernel to use updated packages.\n"
          ]
        }
      ],
      "source": [
        "pip install pelote\n"
      ]
    },
    {
      "cell_type": "code",
      "execution_count": 4,
      "metadata": {
        "id": "QKZrWDSG6dn0",
        "metadata": {}
      },
      "outputs": [],
      "source": [
        "import pandas as pd\n",
        "import networkx as nx\n",
        "import matplotlib.pyplot as plt\n",
        "import json\n",
        "from pyvis.network import Network\n",
        "from ipysigma import Sigma\n",
        "import openpyxl\n"
      ]
    },
    {
      "cell_type": "code",
      "execution_count": 5,
      "metadata": {
        "id": "rt_hjUxC6a2K",
        "metadata": {}
      },
      "outputs": [],
      "source": [
        "file_name = 'examplenet.xlsx'\n",
        "df = pd.read_excel(file_name,engine='openpyxl')"
      ]
    },
    {
      "cell_type": "code",
      "execution_count": 6,
      "metadata": {
        "colab": {
          "base_uri": "https://localhost:8080/",
          "height": 1000
        },
        "id": "8X7W_yUA6yEP",
        "metadata": {},
        "outputId": "16a6597c-ee56-4013-a842-7c8bf916687d"
      },
      "outputs": [
        {
          "data": {
            "text/html": [
              "<div>\n",
              "<style scoped>\n",
              "    .dataframe tbody tr th:only-of-type {\n",
              "        vertical-align: middle;\n",
              "    }\n",
              "\n",
              "    .dataframe tbody tr th {\n",
              "        vertical-align: top;\n",
              "    }\n",
              "\n",
              "    .dataframe thead th {\n",
              "        text-align: right;\n",
              "    }\n",
              "</style>\n",
              "<table border=\"1\" class=\"dataframe\">\n",
              "  <thead>\n",
              "    <tr style=\"text-align: right;\">\n",
              "      <th></th>\n",
              "      <th>Src</th>\n",
              "      <th>TGt</th>\n",
              "      <th>Unnamed: 2</th>\n",
              "    </tr>\n",
              "  </thead>\n",
              "  <tbody>\n",
              "    <tr>\n",
              "      <th>0</th>\n",
              "      <td>AA-ZM-KTC-IMS-Bleaf1</td>\n",
              "      <td>AA-ZM-KTC-IMS-Bleaf2</td>\n",
              "      <td>NaN</td>\n",
              "    </tr>\n",
              "    <tr>\n",
              "      <th>1</th>\n",
              "      <td>AA-ZM-KTC-IMS-Bleaf1</td>\n",
              "      <td>AA-ZM-KTC-IMS-Spine1</td>\n",
              "      <td>NaN</td>\n",
              "    </tr>\n",
              "    <tr>\n",
              "      <th>2</th>\n",
              "      <td>AA-ZM-KTC-IMS-Bleaf1</td>\n",
              "      <td>AA-ZM-KTC-IMS-Spine2</td>\n",
              "      <td>NaN</td>\n",
              "    </tr>\n",
              "    <tr>\n",
              "      <th>3</th>\n",
              "      <td>AA-ZM-KTC-IMS-Bleaf1</td>\n",
              "      <td>KT_DR_M6000_3S-01</td>\n",
              "      <td>NaN</td>\n",
              "    </tr>\n",
              "    <tr>\n",
              "      <th>4</th>\n",
              "      <td>AA-ZM-KTC-IMS-Bleaf1</td>\n",
              "      <td>KT_DR_M6000_3S-02 PE Router</td>\n",
              "      <td>NaN</td>\n",
              "    </tr>\n",
              "    <tr>\n",
              "      <th>...</th>\n",
              "      <td>...</td>\n",
              "      <td>...</td>\n",
              "      <td>...</td>\n",
              "    </tr>\n",
              "    <tr>\n",
              "      <th>435</th>\n",
              "      <td>KT_DR_M6000_3S-01PE Router</td>\n",
              "      <td>NTC_M6K-5S_CR01-PE Router</td>\n",
              "      <td>NaN</td>\n",
              "    </tr>\n",
              "    <tr>\n",
              "      <th>436</th>\n",
              "      <td>KT_DR_M6000_3S-02 PE Router</td>\n",
              "      <td>Kitwe_M6KS-CS-1</td>\n",
              "      <td>NaN</td>\n",
              "    </tr>\n",
              "    <tr>\n",
              "      <th>437</th>\n",
              "      <td>KT_DR_M6000_3S-02 PE Router</td>\n",
              "      <td>NTC_M6K-5S_CR01-PE Router</td>\n",
              "      <td>NaN</td>\n",
              "    </tr>\n",
              "    <tr>\n",
              "      <th>438</th>\n",
              "      <td>KT_DR_M6000_3S-02</td>\n",
              "      <td>Kitwe_M6KS-CS-1</td>\n",
              "      <td>NaN</td>\n",
              "    </tr>\n",
              "    <tr>\n",
              "      <th>439</th>\n",
              "      <td>KT_DR_M6000_3S-02</td>\n",
              "      <td>NTC_M6K-5S_CR01-PE Router</td>\n",
              "      <td>NaN</td>\n",
              "    </tr>\n",
              "  </tbody>\n",
              "</table>\n",
              "<p>440 rows × 3 columns</p>\n",
              "</div>"
            ],
            "text/plain": [
              "                              Src                           TGt  Unnamed: 2\n",
              "0            AA-ZM-KTC-IMS-Bleaf1          AA-ZM-KTC-IMS-Bleaf2         NaN\n",
              "1            AA-ZM-KTC-IMS-Bleaf1          AA-ZM-KTC-IMS-Spine1         NaN\n",
              "2            AA-ZM-KTC-IMS-Bleaf1          AA-ZM-KTC-IMS-Spine2         NaN\n",
              "3            AA-ZM-KTC-IMS-Bleaf1             KT_DR_M6000_3S-01         NaN\n",
              "4            AA-ZM-KTC-IMS-Bleaf1  KT_DR_M6000_3S-02 PE Router          NaN\n",
              "..                            ...                           ...         ...\n",
              "435   KT_DR_M6000_3S-01PE Router     NTC_M6K-5S_CR01-PE Router          NaN\n",
              "436  KT_DR_M6000_3S-02 PE Router                Kitwe_M6KS-CS-1         NaN\n",
              "437  KT_DR_M6000_3S-02 PE Router     NTC_M6K-5S_CR01-PE Router          NaN\n",
              "438             KT_DR_M6000_3S-02               Kitwe_M6KS-CS-1         NaN\n",
              "439             KT_DR_M6000_3S-02    NTC_M6K-5S_CR01-PE Router          NaN\n",
              "\n",
              "[440 rows x 3 columns]"
            ]
          },
          "execution_count": 6,
          "metadata": {},
          "output_type": "execute_result"
        }
      ],
      "source": [
        "df\n"
      ]
    },
    {
      "cell_type": "code",
      "execution_count": 7,
      "metadata": {
        "colab": {
          "base_uri": "https://localhost:8080/"
        },
        "id": "tKEAAUJR6zSK",
        "metadata": {},
        "outputId": "468697a4-d054-4ae2-c51f-3c929882a2a1"
      },
      "outputs": [
        {
          "data": {
            "text/plain": [
              "Index(['Src', 'TGt', 'Unnamed: 2'], dtype='object')"
            ]
          },
          "execution_count": 7,
          "metadata": {},
          "output_type": "execute_result"
        }
      ],
      "source": [
        "df.columns"
      ]
    },
    {
      "cell_type": "code",
      "execution_count": 8,
      "metadata": {
        "id": "FhJCb9rx6zV-",
        "metadata": {}
      },
      "outputs": [],
      "source": [
        "# df_melted=pd.melt(df,id_vars=['NODE', 'Power State', 'Status', 'Instance Name', 'Operator',\n",
        "#        'Data center', 'VMS', 'VCPUS', 'RAM', 'DISK'],value_vars=['VNF','COMPUTE'])"
      ]
    },
    {
      "cell_type": "code",
      "execution_count": 9,
      "metadata": {
        "colab": {
          "base_uri": "https://localhost:8080/",
          "height": 1000
        },
        "id": "FCDXHjFs6zbz",
        "metadata": {},
        "outputId": "5605dddd-d13a-4552-e8e3-8eaa5a92fd23"
      },
      "outputs": [],
      "source": [
        "# df_melted\n",
        "df = df.astype(str)\n",
        "for idx, row in df.iterrows():\n",
        "    row['Src']=row['Src'].replace(' ','')\n",
        "    row['TGt']=row['TGt'].replace(' ','')\n",
        "    \n",
        "\n",
        "    "
      ]
    },
    {
      "cell_type": "code",
      "execution_count": 10,
      "metadata": {},
      "outputs": [
        {
          "data": {
            "text/html": [
              "<div>\n",
              "<style scoped>\n",
              "    .dataframe tbody tr th:only-of-type {\n",
              "        vertical-align: middle;\n",
              "    }\n",
              "\n",
              "    .dataframe tbody tr th {\n",
              "        vertical-align: top;\n",
              "    }\n",
              "\n",
              "    .dataframe thead th {\n",
              "        text-align: right;\n",
              "    }\n",
              "</style>\n",
              "<table border=\"1\" class=\"dataframe\">\n",
              "  <thead>\n",
              "    <tr style=\"text-align: right;\">\n",
              "      <th></th>\n",
              "      <th>Src</th>\n",
              "      <th>TGt</th>\n",
              "      <th>Unnamed: 2</th>\n",
              "    </tr>\n",
              "  </thead>\n",
              "  <tbody>\n",
              "    <tr>\n",
              "      <th>0</th>\n",
              "      <td>AA-ZM-KTC-IMS-Bleaf1</td>\n",
              "      <td>AA-ZM-KTC-IMS-Bleaf2</td>\n",
              "      <td>nan</td>\n",
              "    </tr>\n",
              "    <tr>\n",
              "      <th>1</th>\n",
              "      <td>AA-ZM-KTC-IMS-Bleaf1</td>\n",
              "      <td>AA-ZM-KTC-IMS-Spine1</td>\n",
              "      <td>nan</td>\n",
              "    </tr>\n",
              "    <tr>\n",
              "      <th>2</th>\n",
              "      <td>AA-ZM-KTC-IMS-Bleaf1</td>\n",
              "      <td>AA-ZM-KTC-IMS-Spine2</td>\n",
              "      <td>nan</td>\n",
              "    </tr>\n",
              "    <tr>\n",
              "      <th>3</th>\n",
              "      <td>AA-ZM-KTC-IMS-Bleaf1</td>\n",
              "      <td>KT_DR_M6000_3S-01</td>\n",
              "      <td>nan</td>\n",
              "    </tr>\n",
              "    <tr>\n",
              "      <th>4</th>\n",
              "      <td>AA-ZM-KTC-IMS-Bleaf1</td>\n",
              "      <td>KT_DR_M6000_3S-02PERouter</td>\n",
              "      <td>nan</td>\n",
              "    </tr>\n",
              "    <tr>\n",
              "      <th>...</th>\n",
              "      <td>...</td>\n",
              "      <td>...</td>\n",
              "      <td>...</td>\n",
              "    </tr>\n",
              "    <tr>\n",
              "      <th>435</th>\n",
              "      <td>KT_DR_M6000_3S-01PERouter</td>\n",
              "      <td>NTC_M6K-5S_CR01-PERouter</td>\n",
              "      <td>nan</td>\n",
              "    </tr>\n",
              "    <tr>\n",
              "      <th>436</th>\n",
              "      <td>KT_DR_M6000_3S-02PERouter</td>\n",
              "      <td>Kitwe_M6KS-CS-1</td>\n",
              "      <td>nan</td>\n",
              "    </tr>\n",
              "    <tr>\n",
              "      <th>437</th>\n",
              "      <td>KT_DR_M6000_3S-02PERouter</td>\n",
              "      <td>NTC_M6K-5S_CR01-PERouter</td>\n",
              "      <td>nan</td>\n",
              "    </tr>\n",
              "    <tr>\n",
              "      <th>438</th>\n",
              "      <td>KT_DR_M6000_3S-02</td>\n",
              "      <td>Kitwe_M6KS-CS-1</td>\n",
              "      <td>nan</td>\n",
              "    </tr>\n",
              "    <tr>\n",
              "      <th>439</th>\n",
              "      <td>KT_DR_M6000_3S-02</td>\n",
              "      <td>NTC_M6K-5S_CR01-PERouter</td>\n",
              "      <td>nan</td>\n",
              "    </tr>\n",
              "  </tbody>\n",
              "</table>\n",
              "<p>440 rows × 3 columns</p>\n",
              "</div>"
            ],
            "text/plain": [
              "                           Src                        TGt Unnamed: 2\n",
              "0         AA-ZM-KTC-IMS-Bleaf1       AA-ZM-KTC-IMS-Bleaf2        nan\n",
              "1         AA-ZM-KTC-IMS-Bleaf1       AA-ZM-KTC-IMS-Spine1        nan\n",
              "2         AA-ZM-KTC-IMS-Bleaf1       AA-ZM-KTC-IMS-Spine2        nan\n",
              "3         AA-ZM-KTC-IMS-Bleaf1          KT_DR_M6000_3S-01        nan\n",
              "4         AA-ZM-KTC-IMS-Bleaf1  KT_DR_M6000_3S-02PERouter        nan\n",
              "..                         ...                        ...        ...\n",
              "435  KT_DR_M6000_3S-01PERouter   NTC_M6K-5S_CR01-PERouter        nan\n",
              "436  KT_DR_M6000_3S-02PERouter            Kitwe_M6KS-CS-1        nan\n",
              "437  KT_DR_M6000_3S-02PERouter   NTC_M6K-5S_CR01-PERouter        nan\n",
              "438          KT_DR_M6000_3S-02            Kitwe_M6KS-CS-1        nan\n",
              "439          KT_DR_M6000_3S-02   NTC_M6K-5S_CR01-PERouter        nan\n",
              "\n",
              "[440 rows x 3 columns]"
            ]
          },
          "execution_count": 10,
          "metadata": {},
          "output_type": "execute_result"
        }
      ],
      "source": [
        "df"
      ]
    },
    {
      "cell_type": "code",
      "execution_count": 11,
      "metadata": {
        "id": "zcTu14APKOFp",
        "metadata": {}
      },
      "outputs": [],
      "source": [
        "g=nx.MultiDiGraph()\n",
        "from pelote import edges_table_to_graph\n",
        "from pelote import tables_to_graph\n",
        "from pelote import table_to_bipartite_graph\n",
        "\n",
        "# g = edges_table_to_graph(\n",
        "#   df,\n",
        "#   edge_source_col=\"COMPUTE\",\n",
        "#   edge_target_col=\"VMS\",\n",
        "#   # edge_label=\"NODE\",\n",
        "#   edge_data=['NODE'],\n",
        "#   directed=True\n",
        "# )\n",
        "\n",
        "table_nodes = []\n",
        "\n",
        "table_edges = []\n",
        "\n",
        "\n",
        "# for idx, row in df.iterrows():\n",
        "#   node_data = {\n",
        "#     'Node':row['Src'],\n",
        "#     'ip':row['Srcip']\n",
        "#   }\n",
        "#   table_nodes.append(node_data)\n",
        "  \n",
        "#   node_data = {\n",
        "#     'Node':row['Tgt'],\n",
        "#     'ip':row['Tgtip']\n",
        "#   }\n",
        "#   if row['Tgtip']!='Missing':\n",
        "#     table_nodes.append(node_data)\n",
        "  \n",
        "#   edge_data =  {\n",
        "#     \"source\":row['Src'],\n",
        "#     \"target\": row['Tgt'],\n",
        "#     'Source_ip':row['Srcip'], \n",
        "#     'Target_ip':row['Tgtip'], \n",
        "#   }\n",
        "#   if row['Tgtip']!='Missing':\n",
        "#     table_edges.append(edge_data)\n",
        "\n",
        "  \n",
        "# g = tables_to_graph(\n",
        "#     table_nodes, table_edges, node_col=\"Node\", node_data=['Node', 'ip'], edge_data=['source', 'target', 'Source_ip','Target_ip'], directed=True,\n",
        "# )\n",
        "\n",
        "for idx,row in df.iterrows():\n",
        "    node_data={\n",
        "        \"Node\":row['Src']\n",
        "    }\n",
        "    table_nodes.append(node_data)\n",
        "\n",
        "    node_data={\n",
        "        \"Node\":row['TGt']\n",
        "    }\n",
        "    table_nodes.append(node_data)\n",
        "\n",
        "    edge_data = {\n",
        "        \"source\":row['Src'],\n",
        "        \"target\":row['TGt'],\n",
        "        \"label\":row['Src']\n",
        "    }\n",
        "    table_edges.append(edge_data)\n",
        "    \n",
        "\n",
        "g = tables_to_graph(\n",
        "    table_nodes, table_edges, node_col=\"Node\", node_data=[\"Node\"], edge_data=['source', 'target'], directed=True,\n",
        ")\n",
        "\n",
        "# g = edges_table_to_graph(\n",
        "#   df,\n",
        "#   edge_source_col=\"COMPUTE\",\n",
        "#   edge_target_col=\"VMS\",\n",
        "#   # edge_label=\"NODE\",\n",
        "#   edge_data=['NODE'],\n",
        "#   directed=True\n",
        "# )\n",
        "\n",
        "\n",
        "\n",
        "\n"
      ]
    },
    {
      "cell_type": "code",
      "execution_count": null,
      "metadata": {},
      "outputs": [],
      "source": []
    },
    {
      "cell_type": "code",
      "execution_count": 12,
      "metadata": {
        "id": "qS4HMDhVKOIs",
        "metadata": {}
      },
      "outputs": [],
      "source": [
        "# for idx, row in df.iterrows():\n",
        "#     if not pd.isnull(row['primary-source-address']):  # Check if 'primary-source-address' is not NaN\n",
        "#         G.add_node(row['primary-source-address'])\n",
        "#         G.add_node(row['primary-destination-address'])\n",
        "#         attributes = {col: row[col] for col in attribute_columns}\n",
        "#         attribute_html = format_attributes(attributes)\n",
        "#         G.add_edge(row['primary-source-address'], row['primary-destination-address'], title=r\"{}\".format(attribute_html), color='lightblue')\n",
        "#     else:\n",
        "#         G.add_node(row['primary-destination-address'])\n",
        "#         attributes = {col: row[col] for col in attribute_columns}\n",
        "#         attribute_html = format_attributes(attributes)\n",
        "G=nx.MultiDiGraph()\n",
        "def format_attributes(data_dict):\n",
        "    formatted_string = \"\"\n",
        "    for key, value in data_dict.items():\n",
        "        if key=='value':\n",
        "            formatted_string += f\"{'source'}: {value}\\n\"\n",
        "        else:\n",
        "            formatted_string += f\"{key}: {value}\\n\"\n",
        "    return formatted_string\n",
        "\n",
        "attribute_columns = ['Src','TGt']\n",
        "# for idx, row in df.iterrows():\n",
        "#     dest = row['TGt']\n",
        "#     src=row['Src']\n",
        "#     attributes = {col: row[col] for col in attribute_columns}\n",
        "#     attribute_html = format_attributes(attributes)\n",
        "#     G.add_node(dest, color='Green')\n",
        "#     if not pd.isnull(src):\n",
        "#         G.add_node(src,shape = 'triangle',color='Orange')\n",
        "#         G.add_edge(src,dest,title=r\"{}\".format(attribute_html))\n",
        "    \n",
        "\n",
        "\n",
        "for idx, row in df.iterrows():\n",
        "    src_name = row['Src']\n",
        "    dest_name = row['TGt']\n",
        "    G.add_node(src_name)\n",
        "    G.add_node(dest_name)\n",
        "    attributes = {col: row[col] for col in attribute_columns}\n",
        "    attribute_html = format_attributes(attributes)\n",
        "    G.add_edge(src_name,dest_name, title=r\"{}\".format(attribute_html), color='lightblue')\n",
        "import os\n",
        "G = nx.relabel_nodes(G, {n: str(n) for n in G.nodes()})\n",
        "nt = Network(height=\"1500px\", width=\"100%\", directed=True, notebook=True, filter_menu=True, cdn_resources='remote')\n",
        "nt.from_nx(G)\n",
        "nt.barnes_hut(gravity=-18950,central_gravity=2.0,spring_length=200,spring_strength=0.5,damping=0.75,overlap=0.5)\n",
        "nt.set_edge_smooth('dynamic')\n",
        "# Show additional buttons for physics and interaction (optional)\n",
        "nt.show_buttons(filter_=['physics', 'interaction'])\n",
        "# Generate and save the HTML file\n",
        "html_file_path = 'examplenet.gml'\n",
        "if os.path.exists(html_file_path):\n",
        "    # Delete the file if it exists\n",
        "    os.remove(html_file_path)\n",
        "# Write the HTML file\n",
        "nx.write_gml(G,html_file_path)\n",
        "# nt.write_html(html_file_path)"
      ]
    },
    {
      "cell_type": "code",
      "execution_count": 13,
      "metadata": {
        "colab": {
          "base_uri": "https://localhost:8080/",
          "height": 176
        },
        "id": "2DZYYFjiVMxl",
        "metadata": {},
        "outputId": "167a32f4-5b24-42a6-ed2d-188d9532016f"
      },
      "outputs": [
        {
          "name": "stdout",
          "output_type": "stream",
          "text": [
            "{'AA-ZM-KTC-IMS-Bleaf1': {'Node': 'AA-ZM-KTC-IMS-Bleaf1'}, 'AA-ZM-KTC-IMS-Bleaf2': {'Node': 'AA-ZM-KTC-IMS-Bleaf2'}, 'AA-ZM-KTC-IMS-Spine1': {'Node': 'AA-ZM-KTC-IMS-Spine1'}, 'AA-ZM-KTC-IMS-Spine2': {'Node': 'AA-ZM-KTC-IMS-Spine2'}, 'KT_DR_M6000_3S-01': {'Node': 'KT_DR_M6000_3S-01'}, 'KT_DR_M6000_3S-02PERouter': {'Node': 'KT_DR_M6000_3S-02PERouter'}, 'KTC_ASBC_CFED': {'Node': 'KTC_ASBC_CFED'}, 'AA-ZM-NTC-IMS-BLeaf1': {'Node': 'AA-ZM-NTC-IMS-BLeaf1'}, 'AA-ZM-NTC-IMS-BLeaf2': {'Node': 'AA-ZM-NTC-IMS-BLeaf2'}, 'AA-ZM-NTC-IMS-Spine1': {'Node': 'AA-ZM-NTC-IMS-Spine1'}, 'AA-ZM-NTC-IMS-Spine2': {'Node': 'AA-ZM-NTC-IMS-Spine2'}, 'AA-ZM-WTC-IMS-BLeaf1': {'Node': 'AA-ZM-WTC-IMS-BLeaf1'}, 'NTC_M6K-5S_CR01-PERouter': {'Node': 'NTC_M6K-5S_CR01-PERouter'}, 'NTC_M6K-5S_CR02PERouter': {'Node': 'NTC_M6K-5S_CR02PERouter'}, 'AA-ZM-WTC-IMS-BLeaf2': {'Node': 'AA-ZM-WTC-IMS-BLeaf2'}, 'NTC_ASBC_CFED': {'Node': 'NTC_ASBC_CFED'}, 'NTC_ISBC_CFED': {'Node': 'NTC_ISBC_CFED'}, 'AA-ZM-WTC-IMS-Spine1': {'Node': 'AA-ZM-WTC-IMS-Spine1'}, 'AA-ZM-WTC-IMS-Spine2': {'Node': 'AA-ZM-WTC-IMS-Spine2'}, 'CHN-ALU-SR01': {'Node': 'CHN-ALU-SR01'}, 'CHN-ALU-SR02': {'Node': 'CHN-ALU-SR02'}, 'CHO-ALU-SR01': {'Node': 'CHO-ALU-SR01'}, 'CHO-ALU-SR02': {'Node': 'CHO-ALU-SR02'}, 'Kasama_M6KS-CS-1': {'Node': 'Kasama_M6KS-CS-1'}, 'Kasama_M6KS-CS-2': {'Node': 'Kasama_M6KS-CS-2'}, 'NTC_M6KS-CS-3': {'Node': 'NTC_M6KS-CS-3'}, 'KSEBS10_A_SR_A_userplane_a': {'Node': 'KSEBS10_A_SR_A_userplane_a'}, 'KSEBS10_A_SR_OM_a': {'Node': 'KSEBS10_A_SR_OM_a'}, 'KSEBS10_A_SR_SS7_a': {'Node': 'KSEBS10_A_SR_SS7_a'}, 'MSEBS15_A_SR_A_userplane_a': {'Node': 'MSEBS15_A_SR_A_userplane_a'}, 'MSEBS15_A_SR_OM_a': {'Node': 'MSEBS15_A_SR_OM_a'}, 'MSEBS15_A_SR_SS7_a': {'Node': 'MSEBS15_A_SR_SS7_a'}, 'Kitwe_M6KS-CS-2': {'Node': 'Kitwe_M6KS-CS-2'}, 'KSEBS10_B_SR_A_userplane_b': {'Node': 'KSEBS10_B_SR_A_userplane_b'}, 'KSEBS10_B_SR_OM_b': {'Node': 'KSEBS10_B_SR_OM_b'}, 'KSEBS10_B_SR_SS7_b': {'Node': 'KSEBS10_B_SR_SS7_b'}, 'MSEBS15_B_SR_A_userplane_b': {'Node': 'MSEBS15_B_SR_A_userplane_b'}, 'MSEBS15_B_SR_OM_b': {'Node': 'MSEBS15_B_SR_OM_b'}, 'MSEBS15_B_SR_SS7_b': {'Node': 'MSEBS15_B_SR_SS7_b'}, 'Kitwe_M6KS-CS-1': {'Node': 'Kitwe_M6KS-CS-1'}, 'KT-ALU-SR01': {'Node': 'KT-ALU-SR01'}, 'NTC_M6KS-CS-4': {'Node': 'NTC_M6KS-CS-4'}, 'Livingstone_M6KS-CS-2': {'Node': 'Livingstone_M6KS-CS-2'}, 'WTC_M6KS-CS-2': {'Node': 'WTC_M6KS-CS-2'}, 'KT_DR_M6000_3S-01PERouter': {'Node': 'KT_DR_M6000_3S-01PERouter'}, 'KT_DR_M6000_3S-02': {'Node': 'KT_DR_M6000_3S-02'}, 'KT-ALU-SR02': {'Node': 'KT-ALU-SR02'}, 'Livngstone_M6KS-CS-1': {'Node': 'Livngstone_M6KS-CS-1'}, 'LV-ALU-SR01': {'Node': 'LV-ALU-SR01'}, 'LV-ALU-SR02': {'Node': 'LV-ALU-SR02'}, 'MNG-ALU-SR01': {'Node': 'MNG-ALU-SR01'}, 'MNG-ALU-SR02': {'Node': 'MNG-ALU-SR02'}, 'NCS-SR01': {'Node': 'NCS-SR01'}, 'NCS-SR02': {'Node': 'NCS-SR02'}, 'NTC_M6K-5S_CR02': {'Node': 'NTC_M6K-5S_CR02'}, 'NTC-ALU-SR02': {'Node': 'NTC-ALU-SR02'}, 'WTC_M6KS-CS-1': {'Node': 'WTC_M6KS-CS-1'}, 'ZB-CHIP-7750-04': {'Node': 'ZB-CHIP-7750-04'}, 'KBEBSC09_B_SR_A_userplane_b': {'Node': 'KBEBSC09_B_SR_A_userplane_b'}, 'KBEBSC09_B_SR_OM_B': {'Node': 'KBEBSC09_B_SR_OM_B'}, 'KBEBSC09_B_SR_SS7_b': {'Node': 'KBEBSC09_B_SR_SS7_b'}, 'LSEBSC07_B_SR_SS7_b': {'Node': 'LSEBSC07_B_SR_SS7_b'}, 'LSEBSC12_B_SR_SS7_b': {'Node': 'LSEBSC12_B_SR_SS7_b'}, 'LSEBSC13_B_SR_SS7_b': {'Node': 'LSEBSC13_B_SR_SS7_b'}, 'NTC-ALU-SR01': {'Node': 'NTC-ALU-SR01'}, 'ZB-CHIP-7750-03': {'Node': 'ZB-CHIP-7750-03'}, 'KBEBSC09_A_SR_A_userplane_a': {'Node': 'KBEBSC09_A_SR_A_userplane_a'}, 'KBEBSC09_A_SR_OM_a': {'Node': 'KBEBSC09_A_SR_OM_a'}, 'KBEBSC09_A_SR_SS7_a': {'Node': 'KBEBSC09_A_SR_SS7_a'}, 'LSEBSC07_A_SR_SS7_a': {'Node': 'LSEBSC07_A_SR_SS7_a'}, 'LSEBSC12_A_SR_SS7_a': {'Node': 'LSEBSC12_A_SR_SS7_a'}, 'LSEBSC13_A_SR_SS7_a': {'Node': 'LSEBSC13_A_SR_SS7_a'}, 'SOL-ALU-SR01': {'Node': 'SOL-ALU-SR01'}, 'SOL-ALU-SR02': {'Node': 'SOL-ALU-SR02'}, 'LSEBSC04_A_SR_SS7_a': {'Node': 'LSEBSC04_A_SR_SS7_a'}, 'LSEBSC06_A_SR_SS7_a': {'Node': 'LSEBSC06_A_SR_SS7_a'}, 'LSEBSC04_B_SR_SS7_b': {'Node': 'LSEBSC04_B_SR_SS7_b'}, 'LSEBSC06_B_SR_SS7_b': {'Node': 'LSEBSC06_B_SR_SS7_b'}, 'ZB-NTC-7750-03': {'Node': 'ZB-NTC-7750-03'}, 'ZB-NTC-7750-04': {'Node': 'ZB-NTC-7750-04'}, 'KBEBSC09_A_BSC_Inneraddsecondary-': {'Node': 'KBEBSC09_A_BSC_Inneraddsecondary-'}, 'KBEBSC09_B_BSC_Inneraddsecondary-': {'Node': 'KBEBSC09_B_BSC_Inneraddsecondary-'}, 'KBEBSC09_A_Intercon': {'Node': 'KBEBSC09_A_Intercon'}, 'KBEBSC09_B_Intercon': {'Node': 'KBEBSC09_B_Intercon'}, 'KSEBS10_A_BSC_Inneraddsecondary-': {'Node': 'KSEBS10_A_BSC_Inneraddsecondary-'}, 'KSEBS10_B_BSC_Inneraddsecondary-': {'Node': 'KSEBS10_B_BSC_Inneraddsecondary-'}, 'KSEBS10_A_Intercon': {'Node': 'KSEBS10_A_Intercon'}, 'KSEBS10_B_Intercon': {'Node': 'KSEBS10_B_Intercon'}, 'LSEBSC04_A_BSC_Inneraddsecondary-': {'Node': 'LSEBSC04_A_BSC_Inneraddsecondary-'}, 'LSEBSC04_B_BSC_Inneraddsecondary-': {'Node': 'LSEBSC04_B_BSC_Inneraddsecondary-'}, 'LSEBSC04_A_Intercon': {'Node': 'LSEBSC04_A_Intercon'}, 'LSEBSC04_B_Intercon': {'Node': 'LSEBSC04_B_Intercon'}, 'LSEBSC04_A_SR_A_userplane': {'Node': 'LSEBSC04_A_SR_A_userplane'}, 'LSEBSC04_B_SR_A_userplane': {'Node': 'LSEBSC04_B_SR_A_userplane'}, 'LSEBSC04_A_SR_Abis': {'Node': 'LSEBSC04_A_SR_Abis'}, 'LSEBSC04_B_SR_Abis': {'Node': 'LSEBSC04_B_SR_Abis'}, 'LSEBSC04_A_SR_Gb': {'Node': 'LSEBSC04_A_SR_Gb'}, 'LSEBSC04_B_SR_Gb': {'Node': 'LSEBSC04_B_SR_Gb'}, 'LSEBSC04_A_SR_OM': {'Node': 'LSEBSC04_A_SR_OM'}, 'LSEBSC04_B_SR_OM': {'Node': 'LSEBSC04_B_SR_OM'}, 'LSEBSC06_A_BSC_Inneraddsecondary-': {'Node': 'LSEBSC06_A_BSC_Inneraddsecondary-'}, 'LSEBSC06_B_BSC_Inneraddsecondary-': {'Node': 'LSEBSC06_B_BSC_Inneraddsecondary-'}, 'LSEBSC06_A_Intercon': {'Node': 'LSEBSC06_A_Intercon'}, 'LSEBSC06_B_Intercon': {'Node': 'LSEBSC06_B_Intercon'}, 'LSEBSC06_A_SR_A_userplane': {'Node': 'LSEBSC06_A_SR_A_userplane'}, 'LSEBSC06_B_SR_A_userplane': {'Node': 'LSEBSC06_B_SR_A_userplane'}, 'LSEBSC06_A_SR_Abis': {'Node': 'LSEBSC06_A_SR_Abis'}, 'LSEBSC06_B_SR_Abis': {'Node': 'LSEBSC06_B_SR_Abis'}, 'LSEBSC06_A_SR_Gb': {'Node': 'LSEBSC06_A_SR_Gb'}, 'LSEBSC06_B_SR_Gb': {'Node': 'LSEBSC06_B_SR_Gb'}, 'LSEBSC06_A_SR_OM': {'Node': 'LSEBSC06_A_SR_OM'}, 'LSEBSC06_B_SR_OM': {'Node': 'LSEBSC06_B_SR_OM'}, 'LSEBSC07_A_BSC_Inneraddsecondary-': {'Node': 'LSEBSC07_A_BSC_Inneraddsecondary-'}, 'LSEBSC07_B_BSC_Inneraddsecondary-': {'Node': 'LSEBSC07_B_BSC_Inneraddsecondary-'}, 'LSEBSC07_A_Intercon': {'Node': 'LSEBSC07_A_Intercon'}, 'LSEBSC07_B_Intercon': {'Node': 'LSEBSC07_B_Intercon'}, 'LSEBSC07_A_SR_A_userplane': {'Node': 'LSEBSC07_A_SR_A_userplane'}, 'LSEBSC07_B_SR_A_userplane': {'Node': 'LSEBSC07_B_SR_A_userplane'}, 'LSEBSC07_A_SR_Abis': {'Node': 'LSEBSC07_A_SR_Abis'}, 'LSEBSC07_B_SR_Abis': {'Node': 'LSEBSC07_B_SR_Abis'}, 'LSEBSC07_A_SR_Gb': {'Node': 'LSEBSC07_A_SR_Gb'}, 'LSEBSC07_B_SR_Gb': {'Node': 'LSEBSC07_B_SR_Gb'}, 'LSEBSC07_A_SR_OM': {'Node': 'LSEBSC07_A_SR_OM'}, 'LSEBSC07_B_SR_OM': {'Node': 'LSEBSC07_B_SR_OM'}, 'LSEBSC12_A_BSC_Inneraddsecondary-': {'Node': 'LSEBSC12_A_BSC_Inneraddsecondary-'}, 'LSEBSC12_B_BSC_Inneraddsecondary-': {'Node': 'LSEBSC12_B_BSC_Inneraddsecondary-'}, 'LSEBSC12_A_Intercon': {'Node': 'LSEBSC12_A_Intercon'}, 'LSEBSC12_B_Intercon': {'Node': 'LSEBSC12_B_Intercon'}, 'LSEBSC12_A_SR_A_userplane': {'Node': 'LSEBSC12_A_SR_A_userplane'}, 'LSEBSC12_B_SR_A_userplane': {'Node': 'LSEBSC12_B_SR_A_userplane'}, 'LSEBSC12_A_SR_Abis': {'Node': 'LSEBSC12_A_SR_Abis'}, 'LSEBSC12_B_SR_Abis': {'Node': 'LSEBSC12_B_SR_Abis'}, 'LSEBSC12_A_SR_Gb': {'Node': 'LSEBSC12_A_SR_Gb'}, 'LSEBSC12_B_SR_Gb': {'Node': 'LSEBSC12_B_SR_Gb'}, 'LSEBSC12_A_SR_OM': {'Node': 'LSEBSC12_A_SR_OM'}, 'LSEBSC12_B_SR_OM': {'Node': 'LSEBSC12_B_SR_OM'}, 'LSEBSC13_A_BSC_Inneraddsecondary-': {'Node': 'LSEBSC13_A_BSC_Inneraddsecondary-'}, 'LSEBSC13_B_BSC_Inneraddsecondary-': {'Node': 'LSEBSC13_B_BSC_Inneraddsecondary-'}, 'LSEBSC13_A_Intercon': {'Node': 'LSEBSC13_A_Intercon'}, 'LSEBSC13_B_Intercon': {'Node': 'LSEBSC13_B_Intercon'}, 'LSEBSC13_A_SR_A_userplane': {'Node': 'LSEBSC13_A_SR_A_userplane'}, 'LSEBSC13_B_SR_A_userplane': {'Node': 'LSEBSC13_B_SR_A_userplane'}, 'LSEBSC13_A_SR_Abis': {'Node': 'LSEBSC13_A_SR_Abis'}, 'LSEBSC13_B_SR_Abis': {'Node': 'LSEBSC13_B_SR_Abis'}, 'LSEBSC13_A_SR_Gb': {'Node': 'LSEBSC13_A_SR_Gb'}, 'LSEBSC13_B_SR_Gb': {'Node': 'LSEBSC13_B_SR_Gb'}, 'LSEBSC13_A_SR_OM': {'Node': 'LSEBSC13_A_SR_OM'}, 'LSEBSC13_B_SR_OM': {'Node': 'LSEBSC13_B_SR_OM'}, 'MSEBS15_A_BSC_Inneraddsecondary-': {'Node': 'MSEBS15_A_BSC_Inneraddsecondary-'}, 'MSEBS15_B_BSC_Inneraddsecondary-': {'Node': 'MSEBS15_B_BSC_Inneraddsecondary-'}, 'MSEBS15_A_Intercon': {'Node': 'MSEBS15_A_Intercon'}, 'MSEBS15_B_Intercon': {'Node': 'MSEBS15_B_Intercon'}, 'AA-CN-NTC-N-CFX01-CX.ims.mnc001.mcc645.3gppnetwork.org': {'Node': 'AA-CN-NTC-N-CFX01-CX.ims.mnc001.mcc645.3gppnetwork.org'}, 'AA-CN-NTC-N-NTAS01.ims.mnc001.mcc645.3gppnetwork.org': {'Node': 'AA-CN-NTC-N-NTAS01.ims.mnc001.mcc645.3gppnetwork.org'}, 'CFX_KTC_TDC01': {'Node': 'CFX_KTC_TDC01'}, 'CFX_KTC_TDC02': {'Node': 'CFX_KTC_TDC02'}, 'CFX_WTC_TDC01': {'Node': 'CFX_WTC_TDC01'}, 'CFX_WTC_TDC02': {'Node': 'CFX_WTC_TDC02'}, 'KTC_NTAS': {'Node': 'KTC_NTAS'}, 'NTC_MGCF_PRI': {'Node': 'NTC_MGCF_PRI'}, 'NTC_MGCF_SEC': {'Node': 'NTC_MGCF_SEC'}, 'NTC_NTAS': {'Node': 'NTC_NTAS'}, 'NTC-CFX01-IP-01': {'Node': 'NTC-CFX01-IP-01'}, 'NTC-CFX01-IP-02': {'Node': 'NTC-CFX01-IP-02'}, 'NTCINOCSNA01': {'Node': 'NTCINOCSNA01'}, 'NTCSMSCNA01': {'Node': 'NTCSMSCNA01'}, 'WTC_MGCF_PRI': {'Node': 'WTC_MGCF_PRI'}, 'WTC_MGCF_SEC': {'Node': 'WTC_MGCF_SEC'}, 'WTC_NTAS': {'Node': 'WTC_NTAS'}, 'KBRNC09': {'Node': 'KBRNC09'}, 'NTCRNC05': {'Node': 'NTCRNC05'}, 'NTCRNC08': {'Node': 'NTCRNC08'}, 'WTCRNC06': {'Node': 'WTCRNC06'}, 'WTCRNC15': {'Node': 'WTCRNC15'}, 'KSMRNC07': {'Node': 'KSMRNC07'}, 'MSCS03': {'Node': 'MSCS03'}, 'NTCMSC01': {'Node': 'NTCMSC01'}, 'KTWMSC02': {'Node': 'KTWMSC02'}, 'HLR41': {'Node': 'HLR41'}, 'HLR42': {'Node': 'HLR42'}, 'HLR43': {'Node': 'HLR43'}, 'NTCHSS': {'Node': 'NTCHSS'}, 'KYWHSS': {'Node': 'KYWHSS'}, 'NTCMME': {'Node': 'NTCMME'}, 'KTWMME': {'Node': 'KTWMME'}, 'CPMME': {'Node': 'CPMME'}, 'LVMME': {'Node': 'LVMME'}, 'NTCSGSN': {'Node': 'NTCSGSN'}, 'KTWSGSN': {'Node': 'KTWSGSN'}, 'CPSGSN': {'Node': 'CPSGSN'}, 'LVSGSN': {'Node': 'LVSGSN'}, 'MSC03': {'Node': 'MSC03'}, 'LVGGSN': {'Node': 'LVGGSN'}, 'NTCGGSN': {'Node': 'NTCGGSN'}, 'KitweGGSN': {'Node': 'KitweGGSN'}, 'ChipataGGSN': {'Node': 'ChipataGGSN'}, 'LSEBSC04': {'Node': 'LSEBSC04'}, 'LSEBSC06': {'Node': 'LSEBSC06'}, 'LSEBSC07': {'Node': 'LSEBSC07'}, 'KBEBSC09': {'Node': 'KBEBSC09'}, 'KSEBSC10': {'Node': 'KSEBSC10'}, 'LSEBSC12': {'Node': 'LSEBSC12'}, 'LSEBSC13': {'Node': 'LSEBSC13'}, 'MSEBSC15': {'Node': 'MSEBSC15'}, 'KITWEBSC_27': {'Node': 'KITWEBSC_27'}, 'SLBSC16_164': {'Node': 'SLBSC16_164'}, 'NDOLABSC_200': {'Node': 'NDOLABSC_200'}, 'CHBSC11_311': {'Node': 'CHBSC11_311'}, 'monguBSC14-314': {'Node': 'monguBSC14-314'}, 'chipataBSC01-403': {'Node': 'chipataBSC01-403'}, 'ChingolaBSC_603': {'Node': 'ChingolaBSC_603'}, 'BLVSTN01_801': {'Node': 'BLVSTN01_801'}, 'ChipataASBSC': {'Node': 'ChipataASBSC'}, 'BASCHOMA_911': {'Node': 'BASCHOMA_911'}, 'BASKITWE01_915': {'Node': 'BASKITWE01_915'}, 'BASLVSTN01_930': {'Node': 'BASLVSTN01_930'}, 'BASMONGU01_940\\t': {'Node': 'BASMONGU01_940\\t'}, 'BASNDOLA': {'Node': 'BASNDOLA'}, 'BASSLBSC16': {'Node': 'BASSLBSC16'}, 'KASAMARNC07': {'Node': 'KASAMARNC07'}, 'LVRNC10': {'Node': 'LVRNC10'}, 'KTWRNC11': {'Node': 'KTWRNC11'}, 'KTWRNC12': {'Node': 'KTWRNC12'}, 'Chipata_RNC13': {'Node': 'Chipata_RNC13'}, 'NTCRNC14': {'Node': 'NTCRNC14'}, 'LUSAKARNC02': {'Node': 'LUSAKARNC02'}}\n"
          ]
        }
      ],
      "source": [
        "# sigma = Sigma(g,clickable_edges=True)\n",
        "\n",
        "# Save the Sigma object to an HTML file\n",
        "print(g._node)\n",
        "Sigma.write_html(g,\"./templates/files/examplenet.html\",fullscreen=True,clickable_edges=True,node_size=g.degree,node_color='red')"
      ]
    }
  ],
  "metadata": {
    "accelerator": "GPU",
    "colab": {
      "gpuType": "T4",
      "name": "Welcome to Colaboratory",
      "provenance": []
    },
    "kernelspec": {
      "display_name": "Python 3",
      "name": "python3"
    },
    "language_info": {
      "codemirror_mode": {
        "name": "ipython",
        "version": 3
      },
      "file_extension": ".py",
      "mimetype": "text/x-python",
      "name": "python",
      "nbconvert_exporter": "python",
      "pygments_lexer": "ipython3",
      "version": "3.6.13"
    }
  },
  "nbformat": 4,
  "nbformat_minor": 0
}
